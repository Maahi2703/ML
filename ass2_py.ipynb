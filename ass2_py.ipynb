{
 "cells": [
  {
   "cell_type": "code",
   "execution_count": 1,
   "id": "e1133610",
   "metadata": {},
   "outputs": [],
   "source": [
    "import numpy as np"
   ]
  },
  {
   "cell_type": "code",
   "execution_count": 8,
   "id": "c0a45478",
   "metadata": {
    "scrolled": true
   },
   "outputs": [
    {
     "name": "stdout",
     "output_type": "stream",
     "text": [
      "Creating 5X2 array using np.arange\n",
      "[[ 0 10]\n",
      " [20 30]\n",
      " [40 50]\n",
      " [60 70]\n",
      " [80 90]]\n"
     ]
    }
   ],
   "source": [
    "#1\n",
    "print(\"Creating 5X2 array using np.arange\")\n",
    "sampleArray = np.arange(0, 100, 10)\n",
    "sampleArray = sampleArray.reshape(5,2)\n",
    "print (sampleArray)"
   ]
  },
  {
   "cell_type": "code",
   "execution_count": 9,
   "id": "4ae84e5e",
   "metadata": {},
   "outputs": [
    {
     "name": "stdout",
     "output_type": "stream",
     "text": [
      "Creating 8X3 array using np.arange\n",
      "[[10 11 12]\n",
      " [13 14 15]\n",
      " [16 17 18]\n",
      " [19 20 21]\n",
      " [22 23 24]\n",
      " [25 26 27]\n",
      " [28 29 30]\n",
      " [31 32 33]]\n",
      "\n",
      "Dividing 8X3 array into 4 sub array\n",
      "\n",
      "[array([[10, 11, 12],\n",
      "       [13, 14, 15]]), array([[16, 17, 18],\n",
      "       [19, 20, 21]]), array([[22, 23, 24],\n",
      "       [25, 26, 27]]), array([[28, 29, 30],\n",
      "       [31, 32, 33]])]\n"
     ]
    }
   ],
   "source": [
    "#2\n",
    "print(\"Creating 8X3 array using np.arange\")\n",
    "sampleArray = np.arange(10, 34, 1)\n",
    "sampleArray = sampleArray.reshape(8,3)\n",
    "print (sampleArray)\n",
    "\n",
    "print(\"\\nDividing 8X3 array into 4 sub array\\n\")\n",
    "subArrays = np.split(sampleArray, 4) \n",
    "print(subArrays)"
   ]
  },
  {
   "cell_type": "code",
   "execution_count": 10,
   "id": "d1629a1b",
   "metadata": {},
   "outputs": [
    {
     "name": "stdout",
     "output_type": "stream",
     "text": [
      "Printing Original array\n",
      "[[34 43 73]\n",
      " [82 22 12]\n",
      " [53 94 66]]\n",
      "Printing amin Of Axis 1\n",
      "[34 12 53]\n",
      "Printing amax Of Axis 0\n",
      "[82 94 73]\n"
     ]
    }
   ],
   "source": [
    "#3\n",
    "print(\"Printing Original array\")\n",
    "sampleArray = np.array([[34,43,73],[82,22,12],[53,94,66]]) \n",
    "print (sampleArray)\n",
    "\n",
    "minOfAxisOne = np.amin(sampleArray, 1) \n",
    "print(\"Printing amin Of Axis 1\")\n",
    "print(minOfAxisOne)\n",
    "\n",
    "maxOfAxisOne = np.amax(sampleArray, 0) \n",
    "print(\"Printing amax Of Axis 0\")\n",
    "print(maxOfAxisOne)"
   ]
  },
  {
   "cell_type": "code",
   "execution_count": 11,
   "id": "079610b6",
   "metadata": {},
   "outputs": [
    {
     "name": "stdout",
     "output_type": "stream",
     "text": [
      "Printing Original array\n",
      "[[34 43 73]\n",
      " [82 22 12]\n",
      " [53 94 66]]\n",
      "Array after deleting column 2 on axis 1\n",
      "[[34 73]\n",
      " [82 12]\n",
      " [53 66]]\n",
      "Array after inserting column 2 on axis 1\n",
      "[[34 10 73]\n",
      " [82 10 12]\n",
      " [53 10 66]]\n"
     ]
    }
   ],
   "source": [
    "#4\n",
    "print(\"Printing Original array\")\n",
    "sampleArray = np.array([[34,43,73],[82,22,12],[53,94,66]]) \n",
    "print (sampleArray)\n",
    "\n",
    "print(\"Array after deleting column 2 on axis 1\")\n",
    "sampleArray = np.delete(sampleArray , 1, axis = 1) \n",
    "print (sampleArray)\n",
    "\n",
    "arr = np.array([[10,10,10]])\n",
    "\n",
    "print(\"Array after inserting column 2 on axis 1\")\n",
    "sampleArray = np.insert(sampleArray , 1, arr, axis = 1) \n",
    "print (sampleArray)"
   ]
  },
  {
   "cell_type": "code",
   "execution_count": 12,
   "id": "f31a20a5",
   "metadata": {},
   "outputs": [
    {
     "name": "stdout",
     "output_type": "stream",
     "text": [
      "[1, 8, 27, 64]\n"
     ]
    }
   ],
   "source": [
    "#5\n",
    "l = [1, 2, 3, 4]\n",
    "res = [pow(i, 3) for i in l] # Cube List using list comprehension\n",
    "print(res)\n"
   ]
  },
  {
   "cell_type": "code",
   "execution_count": 16,
   "id": "3b985924",
   "metadata": {},
   "outputs": [
    {
     "name": "stdout",
     "output_type": "stream",
     "text": [
      "14\n"
     ]
    }
   ],
   "source": [
    "#6 \n",
    "def main():\n",
    "    d = {'A' : [1, 2, 3, 4, 5, 6, 7, 8, 9],'B' : 34,'C' : 12,'D' : [7, 8, 9, 6, 4] }\n",
    "    print(sum([len(d[x]) for x in d if isinstance(d[x], list)])) # using list comprehension\n",
    "if __name__ == '__main__':\n",
    "    main()\n"
   ]
  },
  {
   "cell_type": "code",
   "execution_count": 18,
   "id": "2c8c1dc1",
   "metadata": {},
   "outputs": [
    {
     "name": "stdout",
     "output_type": "stream",
     "text": [
      "Maximum Value:  58\n",
      "Minimum Value:  50\n"
     ]
    }
   ],
   "source": [
    "#7\n",
    "my_dict = {'x':50, 'y':58, 'z': 56}\n",
    "key_max = max(my_dict.keys(), key=(lambda k: my_dict[k]))\n",
    "key_min = min(my_dict.keys(), key=(lambda k: my_dict[k]))\n",
    "print('Maximum Value: ',my_dict[key_max])\n",
    "print('Minimum Value: ',my_dict[key_min])\n"
   ]
  },
  {
   "cell_type": "code",
   "execution_count": 19,
   "id": "56bdb338",
   "metadata": {},
   "outputs": [
    {
     "name": "stdout",
     "output_type": "stream",
     "text": [
      "Sum : 600\n"
     ]
    }
   ],
   "source": [
    "#8\n",
    "def returnSum(dict):\n",
    "    return sum(dict.values())\n",
    "dict = {'a': 100, 'b': 200, 'c': 300}\n",
    "print(\"Sum :\", returnSum(dict))"
   ]
  },
  {
   "cell_type": "code",
   "execution_count": 20,
   "id": "ab445d9d",
   "metadata": {},
   "outputs": [
    {
     "data": {
      "text/plain": [
       "array([[0.98697131, 0.83245582],\n",
       "       [0.78576939, 0.89684405],\n",
       "       [0.26310109, 0.4412369 ]])"
      ]
     },
     "execution_count": 20,
     "metadata": {},
     "output_type": "execute_result"
    }
   ],
   "source": [
    "#9\n",
    "np.random.rand(3,2)"
   ]
  },
  {
   "cell_type": "code",
   "execution_count": 21,
   "id": "eddd860e",
   "metadata": {},
   "outputs": [
    {
     "name": "stdout",
     "output_type": "stream",
     "text": [
      "[0 1 2 3 4 5 6 7 8 9]\n",
      "\n",
      "Mean:  4.5\n",
      "\n",
      "Median:  4.5\n",
      "\n",
      "std:  2.8722813232690143\n",
      "\n",
      "variance:  8.25\n"
     ]
    }
   ],
   "source": [
    "#10\n",
    "array = np.arange(10)\n",
    "print(array)\n",
    "  \n",
    "r1 = np.mean(array)\n",
    "print(\"\\nMean: \", r1)\n",
    "\n",
    "r2 = np.median(array)\n",
    "print(\"\\nMedian: \", r2)\n",
    "\n",
    "r3 = np.std(array)\n",
    "print(\"\\nstd: \", r3)\n",
    "  \n",
    "r4 = np.var(array)\n",
    "print(\"\\nvariance: \", r4)"
   ]
  },
  {
   "cell_type": "code",
   "execution_count": null,
   "id": "088199b7",
   "metadata": {},
   "outputs": [],
   "source": []
  }
 ],
 "metadata": {
  "kernelspec": {
   "display_name": "Python 3 (ipykernel)",
   "language": "python",
   "name": "python3"
  },
  "language_info": {
   "codemirror_mode": {
    "name": "ipython",
    "version": 3
   },
   "file_extension": ".py",
   "mimetype": "text/x-python",
   "name": "python",
   "nbconvert_exporter": "python",
   "pygments_lexer": "ipython3",
   "version": "3.11.1"
  }
 },
 "nbformat": 4,
 "nbformat_minor": 5
}
