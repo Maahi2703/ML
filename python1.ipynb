{
 "cells": [
  {
   "cell_type": "code",
   "execution_count": 2,
   "id": "63f75f2b",
   "metadata": {},
   "outputs": [],
   "source": [
    "import numpy as np"
   ]
  },
  {
   "cell_type": "code",
   "execution_count": 7,
   "id": "c549a8c8",
   "metadata": {},
   "outputs": [
    {
     "name": "stdout",
     "output_type": "stream",
     "text": [
      "raj\n"
     ]
    }
   ],
   "source": [
    "#1\n",
    "name = {1:\"raj\",2:\"ravi\",3:\"jim\",4:\"rohan\"} \n",
    "print(name[1]) "
   ]
  },
  {
   "cell_type": "code",
   "execution_count": 8,
   "id": "f522cc9b",
   "metadata": {
    "scrolled": true
   },
   "outputs": [
    {
     "name": "stdout",
     "output_type": "stream",
     "text": [
      "provide a key (numeric): 1\n",
      "True\n"
     ]
    }
   ],
   "source": [
    "ol = int(input(\"provide a key (numeric): \")) \n",
    "print(ol in name)"
   ]
  },
  {
   "cell_type": "code",
   "execution_count": 11,
   "id": "8863414b",
   "metadata": {},
   "outputs": [
    {
     "name": "stdout",
     "output_type": "stream",
     "text": [
      "provide a key (numeric): 1\n",
      "key is there\n",
      "{1: 'raj', 2: 'ravi', 3: 'jim', 4: 'rohan'}\n"
     ]
    }
   ],
   "source": [
    "#2 \n",
    "name = {1:\"raj\",2:\"ravi\",3:\"jim\",4:\"rohan\"} \n",
    "ol = int(input(\"provide a key (numeric): \")) \n",
    "if(ol in name): \n",
    "    print(\"key is there\") \n",
    "else: name[ol] =\"day\" \n",
    "print(name)"
   ]
  },
  {
   "cell_type": "code",
   "execution_count": 13,
   "id": "d9a17c16",
   "metadata": {},
   "outputs": [
    {
     "name": "stdout",
     "output_type": "stream",
     "text": [
      "provide a vlaue : 5\n",
      "the value is not there\n"
     ]
    }
   ],
   "source": [
    "#3 \n",
    "name = {1:\"raj\",2:\"ravi\",3:\"jim\",4:\"rohan\"}\n",
    "ol = input(\"provide a vlaue : \") \n",
    "if (ol in name.values()):\n",
    "    print(\"the value is there\")\n",
    "else : \n",
    "    print(\"the value is not there\") "
   ]
  },
  {
   "cell_type": "code",
   "execution_count": 14,
   "id": "1a623f3b",
   "metadata": {},
   "outputs": [
    {
     "data": {
      "text/plain": [
       "{1: {'a': 'name1', 'b': 'age1'},\n",
       " 2: {'c': 'name2', 'd': 'age2'},\n",
       " 3: {'e': 'name3', 'f': 'age3'}}"
      ]
     },
     "execution_count": 14,
     "metadata": {},
     "output_type": "execute_result"
    }
   ],
   "source": [
    "#4 \n",
    "student = {1:{\"a\":\"name1\",\"b\":\"age1\"},2:{\"c\":\"name2\",\"d\":\"age2\"},3:{\"e\":\"name3\",\"f\":\"age3\"}} \n",
    "student"
   ]
  },
  {
   "cell_type": "code",
   "execution_count": 15,
   "id": "d1afe4cc",
   "metadata": {},
   "outputs": [
    {
     "name": "stdout",
     "output_type": "stream",
     "text": [
      "it is filled with data\n"
     ]
    }
   ],
   "source": [
    "#5\n",
    "student = {1:{\"a\":\"name1\",\"b\":\"age1\"},2:{\"c\":\"name2\",\"d\":\"age2\"},3:{\"e\":\"name3\",\"f\":\"age3\"}}\n",
    "if len(student)>0:\n",
    "    print(\"it is filled with data\")\n",
    "else:\n",
    "    print(\"it is empty\")"
   ]
  },
  {
   "cell_type": "code",
   "execution_count": 16,
   "id": "0334b09b",
   "metadata": {},
   "outputs": [
    {
     "data": {
      "text/plain": [
       "{2: 'ravi', 3: 'jim', 4: 'rohan', 5: 'raj'}"
      ]
     },
     "execution_count": 16,
     "metadata": {},
     "output_type": "execute_result"
    }
   ],
   "source": [
    "#6 \n",
    "name = {5:\"raj\",2:\"ravi\",3:\"jim\",4:\"rohan\"}\n",
    "dict(sorted(name.items()))"
   ]
  },
  {
   "cell_type": "code",
   "execution_count": 17,
   "id": "0ac3712d",
   "metadata": {},
   "outputs": [
    {
     "data": {
      "text/plain": [
       "{1: {'a': 'name1', 'b': 'age1'},\n",
       " 2: 'ravi',\n",
       " 3: {'e': 'name3', 'f': 'age3'},\n",
       " 5: 'raj',\n",
       " 9: 'jim',\n",
       " 8: 'rohan'}"
      ]
     },
     "execution_count": 17,
     "metadata": {},
     "output_type": "execute_result"
    }
   ],
   "source": [
    "#7 \n",
    "name = {5:\"raj\",2:\"ravi\",9:\"jim\",8:\"rohan\"}\n",
    "student = {1:{\"a\":\"name1\",\"b\":\"age1\"},2:{\"c\":\"name2\",\"d\":\"age2\"},3:{\"e\":\"name3\",\"f\":\"age3\"}}\n",
    "student.update(name)\n",
    "student"
   ]
  },
  {
   "cell_type": "code",
   "execution_count": 18,
   "id": "ec81ca47",
   "metadata": {},
   "outputs": [
    {
     "name": "stdout",
     "output_type": "stream",
     "text": [
      "6\n"
     ]
    }
   ],
   "source": [
    "#8 \n",
    "print(len(student)) "
   ]
  },
  {
   "cell_type": "code",
   "execution_count": 20,
   "id": "1dbdf163",
   "metadata": {},
   "outputs": [
    {
     "name": "stdout",
     "output_type": "stream",
     "text": [
      "give a key to delete: 2\n",
      "{1: 'raj', 3: 'jim', 4: 'rohan'}\n"
     ]
    }
   ],
   "source": [
    "#9\n",
    "name = {1:\"raj\",2:\"ravi\",3:\"jim\",4:\"rohan\"} \n",
    "ol = int(input(\"give a key to delete: \"))\n",
    "dict.pop(name,ol)\n",
    "print(name)"
   ]
  },
  {
   "cell_type": "code",
   "execution_count": null,
   "id": "af53377e",
   "metadata": {},
   "outputs": [],
   "source": [
    "#10 \n",
    "name = {5:\"raj\",2:\"ravi\",9:\"jim\",8:\"rohan\"}\n",
    "student = {1:{\"a\":\"name1\",\"b\":\"age1\"},2:{\"c\":\"name2\",\"d\":\"age2\"},3:{\"e\":\"name3\",\"f\":\"age3\"}}\n",
    "student.update(name)\n",
    "ol =int(input(\"give a key: \")) \n",
    "print(student[ol])"
   ]
  },
  {
   "cell_type": "code",
   "execution_count": null,
   "id": "c0c4367f",
   "metadata": {},
   "outputs": [],
   "source": []
  }
 ],
 "metadata": {
  "kernelspec": {
   "display_name": "Python 3 (ipykernel)",
   "language": "python",
   "name": "python3"
  },
  "language_info": {
   "codemirror_mode": {
    "name": "ipython",
    "version": 3
   },
   "file_extension": ".py",
   "mimetype": "text/x-python",
   "name": "python",
   "nbconvert_exporter": "python",
   "pygments_lexer": "ipython3",
   "version": "3.11.1"
  }
 },
 "nbformat": 4,
 "nbformat_minor": 5
}
